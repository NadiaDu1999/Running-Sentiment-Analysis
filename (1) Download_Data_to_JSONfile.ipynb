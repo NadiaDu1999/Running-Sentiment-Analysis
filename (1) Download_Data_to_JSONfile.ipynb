{
 "cells": [
  {
   "cell_type": "markdown",
   "id": "6f9c3552-9311-4b56-bba4-51bc777bdfe1",
   "metadata": {},
   "source": [
    "# Importing the data to Json file"
   ]
  },
  {
   "cell_type": "code",
   "execution_count": 2,
   "id": "d57c678c-c681-4276-8719-708be72d0612",
   "metadata": {},
   "outputs": [
    {
     "name": "stdout",
     "output_type": "stream",
     "text": [
      "Requirement already satisfied: praw in /opt/anaconda3/lib/python3.12/site-packages (7.8.1)\n",
      "Requirement already satisfied: prawcore<3,>=2.4 in /opt/anaconda3/lib/python3.12/site-packages (from praw) (2.4.0)\n",
      "Requirement already satisfied: update_checker>=0.18 in /opt/anaconda3/lib/python3.12/site-packages (from praw) (0.18.0)\n",
      "Requirement already satisfied: websocket-client>=0.54.0 in /opt/anaconda3/lib/python3.12/site-packages (from praw) (1.8.0)\n",
      "Requirement already satisfied: requests<3.0,>=2.6.0 in /opt/anaconda3/lib/python3.12/site-packages (from prawcore<3,>=2.4->praw) (2.32.2)\n",
      "Requirement already satisfied: charset-normalizer<4,>=2 in /opt/anaconda3/lib/python3.12/site-packages (from requests<3.0,>=2.6.0->prawcore<3,>=2.4->praw) (2.0.4)\n",
      "Requirement already satisfied: idna<4,>=2.5 in /opt/anaconda3/lib/python3.12/site-packages (from requests<3.0,>=2.6.0->prawcore<3,>=2.4->praw) (3.7)\n",
      "Requirement already satisfied: urllib3<3,>=1.21.1 in /opt/anaconda3/lib/python3.12/site-packages (from requests<3.0,>=2.6.0->prawcore<3,>=2.4->praw) (2.2.2)\n",
      "Requirement already satisfied: certifi>=2017.4.17 in /opt/anaconda3/lib/python3.12/site-packages (from requests<3.0,>=2.6.0->prawcore<3,>=2.4->praw) (2025.1.31)\n"
     ]
    }
   ],
   "source": [
    "!pip install praw"
   ]
  },
  {
   "cell_type": "code",
   "execution_count": 3,
   "id": "cd08ba2b-261a-46fb-b7b3-649c01b72c7b",
   "metadata": {},
   "outputs": [],
   "source": [
    "import sys\n",
    "import praw\n",
    "import json"
   ]
  },
  {
   "cell_type": "code",
   "execution_count": 4,
   "id": "166bbf2b-82af-48a8-82cb-e225300b79ed",
   "metadata": {},
   "outputs": [],
   "source": [
    "%load_ext autoreload\n",
    "%autoreload 1\n",
    "%aimport redditClient"
   ]
  },
  {
   "cell_type": "code",
   "execution_count": 5,
   "id": "25ca4938-65e8-4617-b3a8-8bcee6c3fd9b",
   "metadata": {},
   "outputs": [],
   "source": [
    "from redditClient import redditClient\n",
    "import matplotlib.pyplot as plt\n",
    "\n",
    "\n",
    "from collections import Counter"
   ]
  },
  {
   "cell_type": "code",
   "execution_count": 6,
   "id": "69e7777d-802d-4935-bc14-1d0bb32e9f93",
   "metadata": {},
   "outputs": [
    {
     "name": "stdout",
     "output_type": "stream",
     "text": [
      "Saved 929 total submissions with relevant comments.\n",
      "Breakdown by subreddit:\n",
      "  - running: 127 posts\n",
      "  - BeginnersRunning: 38 posts\n",
      "  - beginnerrunning: 141 posts\n",
      "  - Marathon_Training: 158 posts\n",
      "  - AdvancedRunning: 155 posts\n",
      "  - XXRunning: 198 posts\n",
      "  - firstmarathon: 112 posts\n"
     ]
    }
   ],
   "source": [
    "# From the author and Social Media and Network Analytics, Lab Notes \n",
    "import praw\n",
    "import json\n",
    "from datetime import datetime\n",
    "from collections import defaultdict\n",
    "\n",
    "reddit = praw.Reddit(\n",
    "    client_id=\"qRiibhdquxeSUjfMJ7pWAQ\",\n",
    "    client_secret=\"0RKnbey-l7uVqiVttlMtT-3QxM5p2Q\",\n",
    "    user_agent=\"client for SNAM2024\"\n",
    ")\n",
    "\n",
    "subreddit_names = [\n",
    "    \"running\", \"BeginnersRunning\", \"beginnerrunning\",\n",
    "    \"Marathon_Training\", \"AdvancedRunning\", \"XXRunning\", \"firstmarathon\"\n",
    "]\n",
    "query = \"mental\"\n",
    "num_posts = 500\n",
    "\n",
    "mental_keywords = [\"mental\", \"anxiety\", \"depression\", \"stress\", \"burnout\", \"therapy\", \"psych\", \"mind\", \"panic\", \"emotion\", \"feel\", \"mood\"]\n",
    "\n",
    "def contains_mental_keywords(text):\n",
    "    return any(keyword in text.lower() for keyword in mental_keywords)\n",
    "\n",
    "data_with_submissions = {\"submissions\": []}\n",
    "subreddit_post_counts = defaultdict(int)\n",
    "\n",
    "for subreddit_name in subreddit_names:\n",
    "    subreddit = reddit.subreddit(subreddit_name)\n",
    "    posts = subreddit.search(query, sort=\"hot\", time_filter=\"all\", limit=num_posts)\n",
    "\n",
    "    for post in posts:\n",
    "        post_data = {\n",
    "            \"subreddit\": subreddit_name,\n",
    "            \"title\": post.title,\n",
    "            \"score\": post.score,\n",
    "            \"created\": post.created_utc,\n",
    "            \"comments\": []\n",
    "        }\n",
    "\n",
    "        \n",
    "        post.comments.replace_more(limit=None)\n",
    "        for top_comment in post.comments[:]:\n",
    "            if contains_mental_keywords(top_comment.body):\n",
    "                post_data[\"comments\"].append({\n",
    "                    \"body\": top_comment.body,\n",
    "                    \"score\": top_comment.score\n",
    "                })\n",
    "\n",
    "        if post_data[\"comments\"]:\n",
    "            data_with_submissions[\"submissions\"].append(post_data)\n",
    "            subreddit_post_counts[subreddit_name] += 1\n",
    "\n",
    "# Save to JSON\n",
    "with open(\"Running_for_MentalHealth.json\", \"w\", encoding=\"utf-8\") as f:\n",
    "    json.dump(data_with_submissions, f, indent=4, ensure_ascii=False)\n",
    "\n",
    "print(f\"Saved {len(data_with_submissions['submissions'])} total submissions with relevant comments.\")\n",
    "print(\"Breakdown by subreddit:\")\n",
    "for name, count in subreddit_post_counts.items():\n",
    "    print(f\"  - {name}: {count} posts\")"
   ]
  }
 ],
 "metadata": {
  "kernelspec": {
   "display_name": "Python 3 (ipykernel)",
   "language": "python",
   "name": "python3"
  },
  "language_info": {
   "codemirror_mode": {
    "name": "ipython",
    "version": 3
   },
   "file_extension": ".py",
   "mimetype": "text/x-python",
   "name": "python",
   "nbconvert_exporter": "python",
   "pygments_lexer": "ipython3",
   "version": "3.12.2"
  }
 },
 "nbformat": 4,
 "nbformat_minor": 5
}
